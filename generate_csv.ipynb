{
 "cells": [
  {
   "cell_type": "code",
   "execution_count": 6,
   "metadata": {},
   "outputs": [],
   "source": [
    "import os\n",
    "import pandas as pd\n",
    "\n",
    "# 设置文件夹路径和CSV文件路径\n",
    "folder_path = '../archive/masked_4K_ori/'\n",
    "csv_file_path = '../archive/boneage-training-dataset.csv'\n",
    "output_csv_path = '../archive/masked_4K.csv'\n",
    "\n",
    "# 读取CSV文件和列出文件夹下的图片\n",
    "image_files = os.listdir(folder_path)\n",
    "image_ids = [int(os.path.splitext(file)[0]) for file in image_files]\n",
    "\n",
    "# 读取CSV文件\n",
    "df = pd.read_csv(csv_file_path)\n",
    "\n",
    "# print(df['id'])\n",
    "\n",
    "# 筛选出符合文件夹下图片ID的行\n",
    "filtered_df = df[df['id'].isin(image_ids)]\n",
    "\n",
    "# 将结果保存到新的CSV文件中\n",
    "filtered_df.to_csv(output_csv_path, index=False)\n"
   ]
  },
  {
   "cell_type": "code",
   "execution_count": 1,
   "metadata": {},
   "outputs": [
    {
     "name": "stderr",
     "output_type": "stream",
     "text": [
      "d:\\Anaconda\\envs\\BAA\\lib\\site-packages\\sklearn\\model_selection\\_split.py:700: UserWarning: The least populated class in y has only 1 members, which is less than n_splits=5.\n",
      "  warnings.warn(\n"
     ]
    }
   ],
   "source": [
    "import os\n",
    "import shutil\n",
    "import pandas as pd\n",
    "from sklearn.model_selection import StratifiedKFold\n",
    "\n",
    "# 设置文件夹路径和CSV文件路径\n",
    "folder_path = '../archive/masked_4K_ori/'\n",
    "csv_file_path = '../archive/masked_4K.csv'\n",
    "output_folder_base = '../archive/masked_4K_fold/'\n",
    "\n",
    "# 读取CSV文件\n",
    "df = pd.read_csv(csv_file_path)\n",
    "\n",
    "# 获取图片ID和对应的标签\n",
    "image_ids = df['id'].values\n",
    "labels = df['boneage'].values  # 替换为实际的标签列名\n",
    "\n",
    "# 设置K折交叉验证的折数\n",
    "n_splits = 5\n",
    "skf = StratifiedKFold(n_splits=n_splits, shuffle=True, random_state=1)\n",
    "\n",
    "# 创建输出文件夹\n",
    "for i, (train_index, valid_index) in enumerate(skf.split(image_ids, labels), 1):\n",
    "    output_folder = os.path.join(output_folder_base, f'fold_{i}')\n",
    "    \n",
    "    # 创建训练集和验证集文件夹\n",
    "    train_folder = os.path.join(output_folder, 'train')\n",
    "    valid_folder = os.path.join(output_folder, 'valid')\n",
    "    os.makedirs(train_folder, exist_ok=True)\n",
    "    os.makedirs(valid_folder, exist_ok=True)\n",
    "\n",
    "    # 复制图片到对应的文件夹\n",
    "    train_image_ids = image_ids[train_index]\n",
    "    valid_image_ids = image_ids[valid_index]\n",
    "\n",
    "    for image_id in train_image_ids:\n",
    "        src_path = os.path.join(folder_path, f'{image_id}.png')  # 假设图片文件名是\"{image_id}.jpg\"\n",
    "        dst_path = os.path.join(train_folder, f'{image_id}.png')\n",
    "        shutil.copy(src_path, dst_path)\n",
    "\n",
    "    for image_id in valid_image_ids:\n",
    "        src_path = os.path.join(folder_path, f'{image_id}.png')\n",
    "        dst_path = os.path.join(valid_folder, f'{image_id}.png')\n",
    "        shutil.copy(src_path, dst_path)\n",
    "\n",
    "    # 创建训练集和验证集的CSV文件\n",
    "    train_csv = df[df['id'].isin(train_image_ids)]\n",
    "    valid_csv = df[df['id'].isin(valid_image_ids)]\n",
    "\n",
    "    train_csv.to_csv(os.path.join(output_folder, 'train.csv'), index=False)\n",
    "    valid_csv.to_csv(os.path.join(output_folder, 'valid.csv'), index=False)\n"
   ]
  }
 ],
 "metadata": {
  "kernelspec": {
   "display_name": "BAA",
   "language": "python",
   "name": "python3"
  },
  "language_info": {
   "codemirror_mode": {
    "name": "ipython",
    "version": 3
   },
   "file_extension": ".py",
   "mimetype": "text/x-python",
   "name": "python",
   "nbconvert_exporter": "python",
   "pygments_lexer": "ipython3",
   "version": "3.8.16"
  }
 },
 "nbformat": 4,
 "nbformat_minor": 2
}
